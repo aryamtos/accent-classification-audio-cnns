{
  "nbformat": 4,
  "nbformat_minor": 0,
  "metadata": {
    "colab": {
      "provenance": [],
      "gpuType": "T4"
    },
    "kernelspec": {
      "name": "python3",
      "display_name": "Python 3"
    },
    "language_info": {
      "name": "python"
    },
    "accelerator": "GPU"
  },
  "cells": [
    {
      "cell_type": "code",
      "source": [
        "!pip install pydub"
      ],
      "metadata": {
        "colab": {
          "base_uri": "https://localhost:8080/"
        },
        "id": "6UHAULMzrrek",
        "outputId": "fc5427b0-c485-4ee7-ec4d-39e79f25e01b"
      },
      "execution_count": 15,
      "outputs": [
        {
          "output_type": "stream",
          "name": "stdout",
          "text": [
            "Looking in indexes: https://pypi.org/simple, https://us-python.pkg.dev/colab-wheels/public/simple/\n",
            "Requirement already satisfied: pydub in /usr/local/lib/python3.10/dist-packages (0.25.1)\n"
          ]
        }
      ]
    },
    {
      "cell_type": "code",
      "source": [
        "import librosa\n",
        "import os\n",
        "import shutil\n",
        "from concurrent.futures import ThreadPoolExecutor\n",
        "import soundfile as sf\n",
        "import numpy as np"
      ],
      "metadata": {
        "id": "9q4uDcmSGAVE"
      },
      "execution_count": 16,
      "outputs": []
    },
    {
      "cell_type": "code",
      "source": [
        "SAMPLE_RATE = 16000"
      ],
      "metadata": {
        "id": "ZaHQ_IX-GPba"
      },
      "execution_count": 17,
      "outputs": []
    },
    {
      "cell_type": "code",
      "source": [
        "input_path=\"/content/drive/MyDrive/USP/qualificacao/EXPERIMENTOS/podcast_audio_only_one/\""
      ],
      "metadata": {
        "id": "gyIqb5RXSRsn"
      },
      "execution_count": null,
      "outputs": []
    },
    {
      "cell_type": "code",
      "source": [
        "output_path=\"/content/drive/MyDrive/USP/qualificacao/EXPERIMENTOS/output_path/\""
      ],
      "metadata": {
        "id": "56reSwCVScYV"
      },
      "execution_count": null,
      "outputs": []
    },
    {
      "cell_type": "code",
      "source": [
        "! apt install ffmpeg\n"
      ],
      "metadata": {
        "colab": {
          "base_uri": "https://localhost:8080/"
        },
        "id": "UtxNFuz5rf4h",
        "outputId": "2a4e0244-c433-4539-f289-7f0539928289"
      },
      "execution_count": 15,
      "outputs": [
        {
          "output_type": "stream",
          "name": "stdout",
          "text": [
            "Reading package lists... Done\n",
            "Building dependency tree       \n",
            "Reading state information... Done\n",
            "ffmpeg is already the newest version (7:4.2.7-0ubuntu0.1).\n",
            "0 upgraded, 0 newly installed, 0 to remove and 46 not upgraded.\n"
          ]
        }
      ]
    },
    {
      "cell_type": "code",
      "source": [
        "! pip install inaSpeechSegmenter"
      ],
      "metadata": {
        "id": "WbJ7s9Sjr69C"
      },
      "execution_count": null,
      "outputs": []
    },
    {
      "cell_type": "code",
      "source": [
        "import os\n",
        "from concurrent.futures import ThreadPoolExecutor\n",
        "import csv\n",
        "import pandas as pd\n",
        "from pydub import AudioSegment\n",
        "\n",
        "from inaSpeechSegmenter import  Segmenter\n",
        "from inaSpeechSegmenter.export_funcs import seg2csv, seg2textgrid\n"
      ],
      "metadata": {
        "id": "cO3h0N6XnjOi"
      },
      "execution_count": 23,
      "outputs": []
    },
    {
      "cell_type": "code",
      "source": [
        "seg = Segmenter()"
      ],
      "metadata": {
        "id": "BiBn_FJinlW2"
      },
      "execution_count": 24,
      "outputs": []
    },
    {
      "cell_type": "markdown",
      "source": [
        "# Segmentação e Trimagem - Áudios com 1 locutor"
      ],
      "metadata": {
        "id": "Avo7pBgyN-Wr"
      }
    },
    {
      "cell_type": "code",
      "source": [
        "class SegmentationAudio:\n",
        "\n",
        "\n",
        "    def __init__(self,audio_directory,save_directory,time_seconds,sample_rate):\n",
        "\n",
        "        self.audio_directory = audio_directory\n",
        "        self.save_directory = save_directory\n",
        "        self.time_seconds = time_seconds\n",
        "        self.sample_rate = sample_rate\n",
        "\n",
        "    def process_audio_file(self,file):\n",
        "\n",
        "        segmentation = seg(file)\n",
        "        filename = os.path.basename(file)\n",
        "        filename = os.path.splitext(filename)[0]\n",
        "        rows = []\n",
        "        for row in segmentation:\n",
        "            res = (filename,) + tuple(row)\n",
        "            # print(res)\n",
        "            rows.append(res)\n",
        "\n",
        "        return rows\n",
        "\n",
        "    def process_audio_files(self,input_dir, output_file):\n",
        "        with ThreadPoolExecutor() as executor:\n",
        "            files = []\n",
        "            for dirpath, dirnames, filenames in os.walk(input_dir):\n",
        "                for filename in filenames:\n",
        "                    if filename.endswith('.ogg'):\n",
        "                        files.append(os.path.join(dirpath, filename))\n",
        "            all_rows = []\n",
        "            for rows in executor.map(self.process_audio_file, files):\n",
        "                print(rows)\n",
        "                all_rows.extend(rows)\n",
        "\n",
        "            with open(output_file, 'w+', newline='') as csvfile:\n",
        "                writer = csv.writer(csvfile)\n",
        "                writer.writerow(['Filename','genre','start_time','end_time'])\n",
        "                writer.writerows(all_rows)\n",
        "\n",
        "\n",
        "    def read_csv_info(self,file_csv,input_dir):\n",
        "        list_all_genres=[]\n",
        "        df = pd.read_csv(file_csv,delimiter=',')\n",
        "        for index,row in df.iterrows():\n",
        "             audio_filename = row['Filename']\n",
        "             genre = row['genre']\n",
        "             start_time=float(row['start_time'])\n",
        "             end_time=float(row['end_time'])\n",
        "\n",
        "             for dirpath,dirnames, filenames in os.walk(input_dir):\n",
        "                for filename in filenames:\n",
        "                     audio_path = os.path.join(dirpath,filename)\n",
        "                     audio = AudioSegment.from_file(audio_path)\n",
        "                     if genre in ['male','female']:\n",
        "                         trimmed_audio = audio[start_time * 1000:end_time * 1000]\n",
        "                         trimmed_filename = f\"trimmed_{audio_filename}\"\n",
        "                         trimmed_filepath = os.path.join(dirpath, trimmed_filename)\n",
        "                         trimmed_audio.export(trimmed_filepath, format='wav')\n",
        "                         #list_all_genres.append(trimmed_audio)\n",
        "                         print(f\"SALVAR AQUI'{trimmed_filepath}'.\")\n",
        "\n",
        "        #combined_audio = AudioSegment.empty()\n",
        "        #for audio_segment in list_all_genres:\n",
        "              #combined_audio += audio_segment\n",
        "\n",
        "        #combined_audio.export(\"combined_audio.wav\", format=\"wav\")\n",
        "        #print(\"AQUI.\")\n",
        "\n",
        "\n",
        "    def trim_audio_files(self):\n",
        "        for dirpath, dirnames, filenames in os.walk(self.audio_directory):\n",
        "            for i, filename in enumerate(filenames):\n",
        "                audio_path = os.path.join(dirpath, filename)\n",
        "                audio_ = AudioSegment.from_file(audio_path)\n",
        "                num_segments = len(audio_) // (self.time_seconds * 1000)\n",
        "                dir_initial = os.path.basename(dirpath)\n",
        "                filename = filename.replace(\".ogg\",\"\")\n",
        "                for segment in range(num_segments):\n",
        "                    start_time = segment * self.time_seconds * 1000\n",
        "                    end_time = (segment + 1) * self.time_seconds * 1000\n",
        "                    trimmed_audio = audio_[start_time:end_time]\n",
        "                    resampled_audio = trimmed_audio.set_frame_rate(self.sample_rate)\n",
        "                    mono_audio = resampled_audio.set_channels(1)\n",
        "                    output_trimmed_audio = os.path.join(self.save_directory, f\"{dir_initial}_{filename}_{segment}.wav\")\n",
        "                    mono_audio.export(output_trimmed_audio, format=\"wav\")"
      ],
      "metadata": {
        "id": "rsC7WbMGSuMl"
      },
      "execution_count": 33,
      "outputs": []
    },
    {
      "cell_type": "code",
      "source": [
        "\n",
        "#output = 'my_csv_file.csv'\n",
        "audio_directory = \"/content/drive/MyDrive/USP/qualificacao/EXPERIMENTOS/podcast_audio_only_one/\"\n",
        "save_directory = \"/content/drive/MyDrive/USP/qualificacao/EXPERIMENTOS/teste/\"\n",
        "time_seconds = 10\n",
        "sample_rate = 16000\n",
        "seg_ = SegmentationAudio(audio_directory,save_directory,time_seconds,sample_rate)\n",
        "seg_.trim_audio_files()"
      ],
      "metadata": {
        "id": "TgDPyXHasIvQ"
      },
      "execution_count": 34,
      "outputs": []
    },
    {
      "cell_type": "markdown",
      "source": [
        "#Remoção de Musica e silêncio"
      ],
      "metadata": {
        "id": "mDVdOyG6OKFe"
      }
    },
    {
      "cell_type": "code",
      "source": [
        "!pip install ffmpeg-python"
      ],
      "metadata": {
        "colab": {
          "base_uri": "https://localhost:8080/"
        },
        "id": "p_wKJ8ALPcmQ",
        "outputId": "9f17527b-9c4c-4d73-bd89-9d00fe6e5b6d"
      },
      "execution_count": 18,
      "outputs": [
        {
          "output_type": "stream",
          "name": "stdout",
          "text": [
            "Looking in indexes: https://pypi.org/simple, https://us-python.pkg.dev/colab-wheels/public/simple/\n",
            "Requirement already satisfied: ffmpeg-python in /usr/local/lib/python3.10/dist-packages (0.2.0)\n",
            "Requirement already satisfied: future in /usr/local/lib/python3.10/dist-packages (from ffmpeg-python) (0.18.3)\n"
          ]
        }
      ]
    },
    {
      "cell_type": "code",
      "source": [
        "!pip install spleeter"
      ],
      "metadata": {
        "id": "YZ0PDuVuN0yg"
      },
      "execution_count": null,
      "outputs": []
    },
    {
      "cell_type": "code",
      "source": [
        "!pip install tqdm"
      ],
      "metadata": {
        "colab": {
          "base_uri": "https://localhost:8080/"
        },
        "id": "dVoZL2yAN9Y-",
        "outputId": "5acfa668-f45f-43ae-ba61-48e9c2e91939"
      },
      "execution_count": 20,
      "outputs": [
        {
          "output_type": "stream",
          "name": "stdout",
          "text": [
            "Looking in indexes: https://pypi.org/simple, https://us-python.pkg.dev/colab-wheels/public/simple/\n",
            "Requirement already satisfied: tqdm in /usr/local/lib/python3.10/dist-packages (4.65.0)\n"
          ]
        }
      ]
    },
    {
      "cell_type": "code",
      "source": [
        "from pydub import AudioSegment\n",
        "from spleeter.separator import Separator\n",
        "import os\n",
        "import shutil\n",
        "from tqdm import tqdm"
      ],
      "metadata": {
        "id": "ghXQplIzprmh"
      },
      "execution_count": 21,
      "outputs": []
    },
    {
      "cell_type": "code",
      "source": [
        "class CleaningAudiosDataset(object):\n",
        "\n",
        "    def __init__(self,path_with_folders,save_local_folder,batch_size,destination_path):\n",
        "        self.path_with_folders = path_with_folders\n",
        "        self.save_local_folder = save_local_folder\n",
        "        self.batch_size = batch_size\n",
        "        self.destination_path = destination_path\n",
        "\n",
        "    def separate_voice_from_music(self):\n",
        "\n",
        "        audio_files = [os.path.join(self.path_with_folders, f) for f in os.listdir(self.path_with_folders) if f.endswith('.wav')]\n",
        "\n",
        "        batches = [audio_files[i:i + self.batch_size] for i in range(0, len(audio_files), self.batch_size)]\n",
        "        separator = Separator('spleeter:2stems')\n",
        "\n",
        "        for batch in tqdm(batches):\n",
        "            for audio_file in batch:\n",
        "                prediction = separator.separate_to_file(audio_file, self.save_local_folder)\n",
        "\n",
        "    def rename_and_copy(self,path):\n",
        "        for dirpath,dirname,filenames in os.walk(path):\n",
        "            for i, filename in enumerate(filenames):\n",
        "                audio_file = os.path.join(dirpath,filename)\n",
        "                if  not (audio_file.endswith('accompaniment.wav')):\n",
        "                    dir_name = os.path.basename(dirpath)\n",
        "                    file_name = os.path.basename(filename)\n",
        "                    new_file = os.path.join(dirpath,f\"{dir_name}.wav\")\n",
        "                    #os.rename(audio_file, new_file)\n",
        "                    new_path = os.path.join(self.destination_path, f\"{dir_name}.wav\")\n",
        "                    shutil.move(audio_file, new_path)\n",
        "\n",
        "\n",
        "    def remove_low_volume(self,threshold):\n",
        "        for file in os.listdir(self.destination_path):\n",
        "            if file.endswith('.wav'):\n",
        "                sound = AudioSegment.from_file(os.path.join(self.destination_path,file),format='wav')\n",
        "                loud = [seg for seg in sound if seg.dBFS > threshold]\n",
        "                if loud:\n",
        "                    new = loud[0]\n",
        "                    for l in loud[1:]:\n",
        "                        new+=l\n",
        "\n",
        "                    output = os.path.join(self.destination_path,file)\n",
        "                    new.export(output,format='wav')\n",
        "                else:\n",
        "                    print(\"Low loud\")\n",
        "\n",
        "\n",
        "    def remove_44bytes_audio_files(self,destination_path):\n",
        "\n",
        "        for dirpath,dirname,filenames in os.walk(destination_path):\n",
        "            for i,filename in enumerate(filenames):\n",
        "                audio_file = os.path.join(dirpath,filename)\n",
        "                if os.path.isfile(audio_file) and os.path.getsize(audio_file) == 44:\n",
        "                    print(f\"Removendo arquivo de 44bytes...em 1,2,3:{filename}\")\n",
        "                    os.remove(audio_file)\n",
        "\n",
        "    def get_capital_begin_letter(self,audio):\n",
        "        capital_letter = audio.split('_')[0]\n",
        "        return capital_letter\n",
        "\n",
        "    def separate_audio_per_folder(self,destination_path):\n",
        "        audio_files = [f for f in os.listdir(destination_path) if f.endswith('.wav')]\n",
        "        for audio in audio_files:\n",
        "            capital_letter = self.get_capital_begin_letter(audio)\n",
        "            capital_folder = os.path.join(destination_path,capital_letter)\n",
        "            os.makedirs(capital_folder,exist_ok=True)\n",
        "            audio_path = os.path.join(destination_path, audio)\n",
        "            new_audio_path = os.path.join(capital_folder, audio)\n",
        "            os.rename(audio_path, new_audio_path)\n",
        "\n",
        "    def process_audio_files(self):\n",
        "        self.separate_voice_from_music()\n",
        "        self.rename_and_copy(self.save_local_folder)\n",
        "        self.remove_low_volume(threshold=0)\n",
        "\n",
        "    def main(self):\n",
        "        self.process_audio_files()\n"
      ],
      "metadata": {
        "id": "LvrypcmNpjMP"
      },
      "execution_count": 22,
      "outputs": []
    },
    {
      "cell_type": "code",
      "source": [
        "cleaner = CleaningAudiosDataset(path_with_folders='/content/drive/MyDrive/USP/qualificacao/EXPERIMENTOS/teste/',\n",
        "                                save_local_folder='/content/drive/MyDrive/USP/qualificacao/EXPERIMENTOS/save_local/',\n",
        "                                batch_size=64,\n",
        "                                destination_path='/content/drive/MyDrive/USP/qualificacao/EXPERIMENTOS/destination_path/')\n",
        "#cleaner.main()"
      ],
      "metadata": {
        "id": "Q_fvBQ8Qpvti"
      },
      "execution_count": 23,
      "outputs": []
    },
    {
      "cell_type": "code",
      "source": [
        "cleaner.remove_44bytes_audio_files(destination_path='/content/drive/MyDrive/USP/qualificacao/EXPERIMENTOS/destination_path/')"
      ],
      "metadata": {
        "id": "pJOxbU59hWy-"
      },
      "execution_count": 24,
      "outputs": []
    },
    {
      "cell_type": "markdown",
      "source": [
        "# Separando os arquivos nos diretórios específicos - Teste\n"
      ],
      "metadata": {
        "id": "QSTsIp5PY_Ci"
      }
    },
    {
      "cell_type": "code",
      "source": [
        "destination_path='/content/drive/MyDrive/USP/qualificacao/EXPERIMENTOS/destination_path/'"
      ],
      "metadata": {
        "id": "yUwkuEqZZO6S"
      },
      "execution_count": 11,
      "outputs": []
    },
    {
      "cell_type": "code",
      "source": [],
      "metadata": {
        "id": "jkc8PRKKahjJ"
      },
      "execution_count": null,
      "outputs": []
    },
    {
      "cell_type": "code",
      "source": [
        "import os\n",
        "\n",
        "audio_folder = destination_path\n",
        "audio_files = [f for f in os.listdir(audio_folder) if f.endswith('.wav')]"
      ],
      "metadata": {
        "id": "y6HxHPwpZHZQ"
      },
      "execution_count": 12,
      "outputs": []
    },
    {
      "cell_type": "code",
      "source": [
        "def extrair_nome_capital(audio_file):\n",
        "    nome_capital = audio_file.split('_')[0]\n",
        "    return nome_capital\n"
      ],
      "metadata": {
        "id": "P0h7XnAEZH-w"
      },
      "execution_count": 13,
      "outputs": []
    },
    {
      "cell_type": "code",
      "source": [
        "for audio_file in audio_files:\n",
        "    capital = extrair_nome_capital(audio_file)\n",
        "    capital_folder = os.path.join(audio_folder, capital)\n",
        "    os.makedirs(capital_folder, exist_ok=True)\n",
        "    audio_path = os.path.join(audio_folder, audio_file)\n",
        "    new_audio_path = os.path.join(capital_folder, audio_file)\n",
        "    os.rename(audio_path, new_audio_path)\n"
      ],
      "metadata": {
        "id": "NjGpSfoOZK9o"
      },
      "execution_count": 14,
      "outputs": []
    }
  ]
}